{
 "cells": [
  {
   "cell_type": "markdown",
   "metadata": {},
   "source": [
    "# Project 2 in Scientific Computing\n",
    "## By Samuel Kaplan and Semyon Lomasov"
   ]
  },
  {
   "cell_type": "code",
   "execution_count": 1,
   "metadata": {},
   "outputs": [],
   "source": [
    "import numpy as np\n",
    "import matplotlib.pyplot as plt\n",
    "import math\n",
    "from IPython.display import display, clear_output"
   ]
  },
  {
   "cell_type": "code",
   "execution_count": 2,
   "metadata": {},
   "outputs": [],
   "source": [
    "pi = np.pi\n",
    "exp = np.exp\n",
    "sqrt = np.sqrt\n",
    "sin = np.sin\n",
    "cos = np.cos"
   ]
  },
  {
   "cell_type": "markdown",
   "metadata": {},
   "source": [
    "### Suggested Activity 1"
   ]
  },
  {
   "cell_type": "markdown",
   "metadata": {},
   "source": [
    "Run tacoma.m with wind speed W = 80 km/hr and initial conditions y = y ′ = θ ′ = 0, θ = 0.001. The bridge is stable in the torsional dimension if small disturbances in θ die out; unstable if they grow far beyond original size. Which occurs for this value of W ?"
   ]
  },
  {
   "cell_type": "code",
   "execution_count": 3,
   "metadata": {},
   "outputs": [],
   "source": [
    "#Set parameters\n",
    "\n",
    "len = 6\n",
    "# Hooke’s nonlinearity coefficient\n",
    "a = 0.2\n",
    "# Wind speed in km/hr\n",
    "W = 80\n",
    "# Damping coefficient\n",
    "d = .01"
   ]
  },
  {
   "cell_type": "code",
   "execution_count": 4,
   "metadata": {},
   "outputs": [],
   "source": [
    "def ydot(t, y):\n",
    "    \"\"\"\n",
    "    Compute the derivative of the tacoma function w.r.t. t at point t given initial conditions y\n",
    "    \n",
    "    Parameters\n",
    "    ----------\n",
    "    y : array\n",
    "        vector of initial conditions\n",
    "    t : real number\n",
    "        point in time\n",
    "    \n",
    "    Returns\n",
    "    -------\n",
    "    array \n",
    "        vector of derivatives at t\n",
    "    \"\"\"\n",
    "    omega = 2 * pi * 38 / 60\n",
    "    a1 = exp(a * (y[0] - len * sin(y[2])))\n",
    "    a2 = exp(a * (y[0] + len * sin(y[2])))\n",
    "\n",
    "    ydot = np.zeros(4)\n",
    "    ydot[0] = y[1]\n",
    "    ydot[1] = (-d) * y[1] - 0.4 * (a1 + a2 - 2) / a + 0.2 * W * sin(omega * t)\n",
    "    ydot[2] = y[3]\n",
    "    ydot[3] = (-d) * y[3] + 1.2 * cos(y[3]) * (a1 - a2) / (len * a)\n",
    "\n",
    "    return ydot"
   ]
  },
  {
   "cell_type": "code",
   "execution_count": 5,
   "metadata": {},
   "outputs": [],
   "source": [
    "def trapstep(t, x, h, g):\n",
    "    \"\"\"\n",
    "    Compute one step of the Trapezoid Method\n",
    "    \n",
    "    Parameters\n",
    "    ----------\n",
    "    \n",
    "    t : real number\n",
    "        point in time\n",
    "    x : array\n",
    "        array of initial values\n",
    "    h : real number\n",
    "        stepsize\n",
    "    g : function\n",
    "        take the derivative of the hard-coded function\n",
    "    \n",
    "    Returns\n",
    "    -------\n",
    "    array\n",
    "        predicted values of the function at t+h\n",
    "    \"\"\"\n",
    "\n",
    "    # Calculate derivative at t\n",
    "    z1 = g(t, x)\n",
    "\n",
    "    # Calculate predicted value at t + h\n",
    "    s = x + h * z1\n",
    "\n",
    "    # Calculate derivative at t + h\n",
    "    z2 = g(t + h, s)\n",
    "\n",
    "    # Calculate new value of x\n",
    "    y = x + h * (z1 + z2) / 2\n",
    "\n",
    "    return y"
   ]
  },
  {
   "cell_type": "code",
   "execution_count": 6,
   "metadata": {},
   "outputs": [],
   "source": [
    "def tacoma(inter,ic,n,p,f,disbridge=True,disyt0t=False):  \n",
    "    \"\"\"\n",
    "    Animation Program for bridge using IVP Solver.  \n",
    "    \n",
    "    Parameters\n",
    "    ----------\n",
    "    \n",
    "    inter : array\n",
    "        the initial and final time\n",
    "    ic : array\n",
    "        initial conditions\n",
    "    n : natural number\n",
    "        number of steps\n",
    "    p : natural number\n",
    "        steps per point plotted\n",
    "    f : function    \n",
    "        one-step method such as trapstep or runge-kutta\n",
    "    disbridge : boolean\n",
    "        if displays a plot of the bridge's movement\n",
    "    disyt0t : boolean\n",
    "        if displays a plot of y(t) and theta(t)\n",
    "\n",
    "    Returns\n",
    "    -------\n",
    "    array\n",
    "        values of theta(t)\n",
    "    \"\"\"\n",
    "        \n",
    "    # Calculate step size\n",
    "    h = (inter[1]-inter[0])/n\n",
    "    \n",
    "    # Initialize y\n",
    "    y = np.zeros((p + 1, 4)) \n",
    "    y[0, :] = ic\n",
    "\n",
    "    # Initialize t\n",
    "    t = np.zeros(p + 1)\n",
    "    t[0] = inter[0]\n",
    "    \n",
    "    # Initialize z1 and z3\n",
    "    z1 = np.zeros(n+1)\n",
    "    z3 = np.zeros(n+1)\n",
    "    \n",
    "    # Set length to 6\n",
    "    len = 6\n",
    "    \n",
    "    # Sets up the plot for disbridge outside of the for-loop\n",
    "    if(disbridge):\n",
    "        plt.ion()\n",
    "        fig = plt.figure()\n",
    "        ax = fig.add_subplot(111)\n",
    "\n",
    "    # Loop over time steps\n",
    "    for k in range(n):\n",
    "\n",
    "      # Loop over cable segments\n",
    "        for i in range(p):\n",
    "\n",
    "            # Update time\n",
    "            t[i + 1] = t[i] + h\n",
    "\n",
    "            # Calculate new value of y\n",
    "            y[i + 1, :] = f(t[i], y[i, :], h, ydot)\n",
    "            \n",
    "        #Prepares the t and y arrays for animation\n",
    "        y[0,:] = y[p,:]\n",
    "        t[0] = t[p]\n",
    "\n",
    "        # Saves the vertical displacement of the bridge\n",
    "        z1[k] = y[0,0]\n",
    "\n",
    "        # Saves the angle of the bridge\n",
    "        z3[k] = y[0,2] \n",
    "\n",
    "        # Generates an animated plot of the bridge\n",
    "        if(disbridge):\n",
    "\n",
    "            c = len * math.cos(y[0,2])\n",
    "            s = len * math.sin(y[0,2]) \n",
    "            \n",
    "            # Reset screen\n",
    "            ax.cla()\n",
    "\n",
    "            # Sets the axes\n",
    "            ax.set_xlim(-8, 8)\n",
    "            ax.set_ylim(-8, 8)\n",
    "            ax.set_xticks([-8, 0, 8])\n",
    "            ax.set_yticks([-8, 0, 8])\n",
    "\n",
    "            # Makes aspect ratio 1 - 1\n",
    "            ax.set_aspect('equal')\n",
    "\n",
    "            # Initialize animated lines \n",
    "            road, = ax.plot([], [], color='b', linestyle='-', linewidth=1) \n",
    "            lcable, = ax.plot([], [], color='r', linestyle='-', linewidth=1)\n",
    "            rcable, = ax.plot([], [], color='r', linestyle='-', linewidth=1)\n",
    "\n",
    "            # Update animated lines\n",
    "            road.set_data([-c, c], [-s - y[0, 0], s - y[0, 0]])\n",
    "            lcable.set_data([-c, -c], [-s - y[0, 0], 8])\n",
    "            rcable.set_data([c, c], [s - y[0, 0], 8])\n",
    "        \n",
    "            # Draw animated lines\n",
    "            display(fig)    \n",
    "            clear_output(wait = True)\n",
    "\n",
    "    # Generates plots for y(t) and theta(t)    \n",
    "    if(disyt0t):\n",
    "\n",
    "        plt.ion()\n",
    "\n",
    "        # Creates a figure to graph y(t)\n",
    "        time = np.linspace(inter[0], inter[1], n+1)\n",
    "        figyt = plt.figure(\"Graph of y(t)\")\n",
    "        axyt = figyt.add_subplot(111)\n",
    "        axyt.plot(time, z1, color='b', linestyle='-', linewidth=1) \n",
    "\n",
    "        # Creates a figure to graph thetat\n",
    "        fig0t = plt.figure(\"Graph of Theta(t)\")\n",
    "        ax0t = fig0t.add_subplot(111)\n",
    "        ax0t.plot(time, z3, color='b', linestyle='-', linewidth=1)\n",
    "\n",
    "        # Display figures \n",
    "        display()\n",
    "\n",
    "    #returns an array of theta(t)\n",
    "    return z3"
   ]
  },
  {
   "cell_type": "code",
   "execution_count": 7,
   "metadata": {},
   "outputs": [
    {
     "data": {
      "image/png": "[encoded data removed]",
      "text/plain": [
       "<Figure size 640x480 with 1 Axes>"
      ]
     },
     "metadata": {},
     "output_type": "display_data"
    }
   ],
   "source": [
    "# Example input\n",
    "z = tacoma([0,30],[1,0,0.001,0],500,5, trapstep)"
   ]
  },
  {
   "cell_type": "markdown",
   "metadata": {},
   "source": [
    "Sources:\n",
    "https://pythonguides.com/matplotlib-update-plot-in-loop/\n",
    "https://stackoverflow.com/questions/7965743/how-can-i-set-the-aspect-ratio-in-matplotlib\n",
    "https://www.tutorialspoint.com/matplotlib-animation-not-working-in-ipython-notebook\n",
    "https://www.geeksforgeeks.org/how-to-update-a-plot-in-matplotlib/\n",
    "https://pythonspot.com/matplotlib-update-plot/"
   ]
  },
  {
   "cell_type": "markdown",
   "metadata": {},
   "source": [
    "We thus see that the bridge looks torsionally unstable since small disturbances in $\\theta$ seem to grow far beyond the original size and do not die out"
   ]
  },
  {
   "cell_type": "markdown",
   "metadata": {},
   "source": [
    "### Suggested Activity 2"
   ]
  },
  {
   "cell_type": "markdown",
   "metadata": {},
   "source": [
    "Replace the Trapezoid Method by fourth-order Runge–Kutta to improve accuracy. Also, add new figure windows to plot y(t) and θ(t)."
   ]
  },
  {
   "cell_type": "code",
   "execution_count": 8,
   "metadata": {},
   "outputs": [],
   "source": [
    "def RungeKutta4(t, x, h, g):\n",
    "    \"\"\"\n",
    "    Compute one step of the Runge-Kutta 4th Order Method\n",
    "    \n",
    "    Parameters\n",
    "    ----------\n",
    "    \n",
    "    t : real number\n",
    "        point in time\n",
    "    x : array\n",
    "        array of initial values\n",
    "    h : real number\n",
    "        stepsize\n",
    "    g: function\n",
    "        take the derivative of the hard-coded function\n",
    "    \n",
    "    Returns\n",
    "    -------\n",
    "    array\n",
    "        predicted values of the function at t+h\n",
    "    \"\"\"\n",
    "    # Calculate leftpoint derivative\n",
    "    s1 = g(t, x)\n",
    "    \n",
    "    # Calculate midpoint derivative\n",
    "    s2 = g(t+h/2, x+(h/2)*s1)\n",
    "    \n",
    "    # Calculate improved midpoint derivative\n",
    "    s3 = g(t+h/2, x+(h/2)*s2)\n",
    "\n",
    "    # Calculate rightpoint derivative\n",
    "    s4 = g(t + h, x+h*s3)\n",
    "\n",
    "    # Calculate new value of x\n",
    "    y = x + (h/6) * (s1 + 2*s2 + 2*s3 + s4)\n",
    "\n",
    "    return y"
   ]
  },
  {
   "cell_type": "code",
   "execution_count": 9,
   "metadata": {},
   "outputs": [
    {
     "data": {
      "image/png": "[encoded data removed]",
      "text/plain": [
       "<Figure size 640x480 with 1 Axes>"
      ]
     },
     "metadata": {},
     "output_type": "display_data"
    },
    {
     "data": {
      "image/png": "[encoded data removed]",
      "text/plain": [
       "<Figure size 640x480 with 1 Axes>"
      ]
     },
     "metadata": {},
     "output_type": "display_data"
    }
   ],
   "source": [
    "z=tacoma([0,1000],[1,0,0.001,0],10000,5, RungeKutta4,False,True)"
   ]
  },
  {
   "cell_type": "markdown",
   "metadata": {},
   "source": [
    "We see that the bridge is torsionally unstable"
   ]
  },
  {
   "cell_type": "markdown",
   "metadata": {},
   "source": [
    "### Suggested Activity 3"
   ]
  },
  {
   "cell_type": "markdown",
   "metadata": {},
   "source": [
    "The system is torsionally stable for W = 50 km/hr. Find the magnification factor for a small initial angle. That is, set θ(0) = 10−3 and find the ratio of the maximum angle θ(t), 0 ≤ t < ∞, to θ(0). Is the magnification factor approximately consistent for initial angles θ(0) = 10**−4, 10**−5,...?"
   ]
  },
  {
   "cell_type": "code",
   "execution_count": 10,
   "metadata": {},
   "outputs": [
    {
     "data": {
      "image/png": "[encoded data removed]",
      "text/plain": [
       "<Figure size 640x480 with 1 Axes>"
      ]
     },
     "metadata": {},
     "output_type": "display_data"
    },
    {
     "data": {
      "image/png": "[encoded data removed]",
      "text/plain": [
       "<Figure size 640x480 with 1 Axes>"
      ]
     },
     "metadata": {},
     "output_type": "display_data"
    }
   ],
   "source": [
    "# Set wind speed to 50\n",
    "W = 50\n",
    "\n",
    "# Set θ(0) = 10^(−3)\n",
    "theta = 0.001\n",
    "\n",
    "z = tacoma([0,200],[1,0,theta,0],5000,5, RungeKutta4, False, True)"
   ]
  },
  {
   "cell_type": "markdown",
   "metadata": {},
   "source": [
    "As expected, the bridge is torsionally stable: disturbances in $\\theta$ die out"
   ]
  },
  {
   "cell_type": "code",
   "execution_count": 11,
   "metadata": {},
   "outputs": [
    {
     "name": "stdout",
     "output_type": "stream",
     "text": [
      "20.592265019540907\n"
     ]
    }
   ],
   "source": [
    "# Calculates the magnification factor for θ(0) = 10^(−3)\n",
    "print(z.max()/theta)"
   ]
  },
  {
   "cell_type": "code",
   "execution_count": 12,
   "metadata": {},
   "outputs": [
    {
     "name": "stdout",
     "output_type": "stream",
     "text": [
      "For θ =  0.0001 , magnification factor =  20.43951460223806\n",
      "For θ =  1e-05 , magnification factor =  20.437974692501644\n",
      "For θ =  1e-06 , magnification factor =  20.437959291794446\n",
      "For θ =  1e-07 , magnification factor =  20.43795913074319\n",
      "For θ =  1e-08 , magnification factor =  20.43795917389447\n",
      "For θ =  1e-09 , magnification factor =  20.437960285139386\n"
     ]
    }
   ],
   "source": [
    "# Calculates the magnification factor for θ(0) = 10**−4, 10**−5,..., 10**−9\n",
    "for i in range(4,10):\n",
    "    theta = 10**(-i)\n",
    "    z = tacoma([0,200],[1,0,theta,0],5000,5, RungeKutta4, False, False)\n",
    "    print(\"For θ = \", theta,\", magnification factor = \", z.max()/theta)"
   ]
  },
  {
   "cell_type": "markdown",
   "metadata": {},
   "source": [
    "The magnification factor is approximately consistent around 20.4395"
   ]
  },
  {
   "cell_type": "markdown",
   "metadata": {},
   "source": [
    "### Suggested Activity 4"
   ]
  },
  {
   "cell_type": "markdown",
   "metadata": {},
   "source": [
    "Find the minimum wind speed W for which a small disturbance θ(0) = 10−3 has a magnification factor of 100 or more. Can a consistent magnification factor be defined for this W ?"
   ]
  },
  {
   "cell_type": "code",
   "execution_count": 13,
   "metadata": {},
   "outputs": [
    {
     "name": "stdout",
     "output_type": "stream",
     "text": [
      "wind speed =  25   1.081557387678883\n",
      "wind speed =  30   1.3040293664086833\n",
      "wind speed =  35   2.5089815555555464\n",
      "wind speed =  40   4.95286645639166\n",
      "wind speed =  45   10.010974080164742\n"
     ]
    }
   ],
   "source": [
    "# Finds the minimum wind speed through guess and check\n",
    "\n",
    "# Set theta at 10^(-3)\n",
    "theta = 10**(-3)\n",
    "\n",
    "# Checks the windspeed for a range of wind speeds from 25 to 45\n",
    "for i in range(25,50,5):\n",
    "    W = i\n",
    "    z = tacoma([0,200],[1,0,theta,0],5000,5, RungeKutta4, False, False)\n",
    "    print(\"wind speed = \",i,\" \",z.max()/theta)"
   ]
  },
  {
   "cell_type": "markdown",
   "metadata": {},
   "source": [
    "None of these speeds come close to a magnification factor of 100"
   ]
  },
  {
   "cell_type": "code",
   "execution_count": 14,
   "metadata": {},
   "outputs": [
    {
     "name": "stdout",
     "output_type": "stream",
     "text": [
      "wind speed =  50   20.592265019540907\n",
      "wind speed =  55   43.08118411953093\n",
      "wind speed =  60   112.32438375754677\n",
      "wind speed =  65   252.2730569922529\n"
     ]
    }
   ],
   "source": [
    "# Checks for range of 50 to 65\n",
    "for i in range(50,70,5):\n",
    "    W = i\n",
    "    z = tacoma([0,200],[1,0,theta,0],5000,5, RungeKutta4, False, False)\n",
    "    print(\"wind speed = \",i,\" \",z.max()/theta)"
   ]
  },
  {
   "cell_type": "code",
   "execution_count": 15,
   "metadata": {},
   "outputs": [
    {
     "name": "stdout",
     "output_type": "stream",
     "text": [
      "wind speed =  58   69.40019631341936\n",
      "wind speed =  59   84.75995237787286\n",
      "wind speed =  60   112.32438375754677\n"
     ]
    }
   ],
   "source": [
    "# Check for speeds between 55 and 60\n",
    "for i in range(58,61):\n",
    "    W = i\n",
    "    z = tacoma([0,200],[1,0,theta,0],5000,5, RungeKutta4, False, False)\n",
    "    print(\"wind speed = \",i,\" \",z.max()/theta)"
   ]
  },
  {
   "cell_type": "code",
   "execution_count": 16,
   "metadata": {},
   "outputs": [
    {
     "name": "stdout",
     "output_type": "stream",
     "text": [
      "wind speed =  59.4   92.24416068507317\n",
      "wind speed =  59.5   94.38152467629905\n",
      "wind speed =  59.6   97.13460639063594\n",
      "wind speed =  59.7   100.05058588843688\n"
     ]
    }
   ],
   "source": [
    "# The minimum wind speed must be in between 59 and 60. \n",
    "for i in range(594,598,1):\n",
    "    W = i/10\n",
    "    z = tacoma([0,200],[1,0,theta,0],5000,5, RungeKutta4, False, False)\n",
    "    print(\"wind speed = \",i/10,\" \",z.max()/theta)"
   ]
  },
  {
   "cell_type": "markdown",
   "metadata": {},
   "source": [
    "We've identified 59.7 as the minimum windspeed for a magnification factor of 100. We will test if it is consistent with different values for theta"
   ]
  },
  {
   "cell_type": "code",
   "execution_count": 17,
   "metadata": {},
   "outputs": [
    {
     "name": "stdout",
     "output_type": "stream",
     "text": [
      "magnification factor for theta = 10^- 2 : 25.024385882282314\n",
      "magnification factor for theta = 10^- 3 : 100.05058588843688\n",
      "magnification factor for theta = 10^- 4 : 76.32807287872137\n",
      "magnification factor for theta = 10^- 5 : 76.24003111808005\n",
      "magnification factor for theta = 10^- 6 : 76.23915065462724\n",
      "magnification factor for theta = 10^- 7 : 76.23914187558377\n",
      "magnification factor for theta = 10^- 8 : 76.23914179053871\n",
      "magnification factor for theta = 10^- 9 : 76.23913737037734\n"
     ]
    }
   ],
   "source": [
    "W = 59.7\n",
    "# Checks for the magnification factor at various initial angles\n",
    "for i in range(2,10):\n",
    "    theta = 10**(-i)\n",
    "    z = tacoma([0,200],[1,0,theta,0],5000,5, RungeKutta4, False, False)\n",
    "    print(\"magnification factor for theta = 10^-\", i, \":\", z.max()/theta)"
   ]
  },
  {
   "cell_type": "markdown",
   "metadata": {},
   "source": [
    "There is a consistent magnification factor for this value of W at 76.2 assuming initial starting angle (theta) 10^-4 and smaller"
   ]
  },
  {
   "cell_type": "markdown",
   "metadata": {},
   "source": [
    "### Suggested Activity 5"
   ]
  },
  {
   "cell_type": "markdown",
   "metadata": {},
   "source": [
    "Design and implement a method for computing the minimum wind speed in\n",
    "Step 4, to within 0.5 × 10−3 km/hr. You may want to use an equation solver from Chapter 1."
   ]
  },
  {
   "cell_type": "code",
   "execution_count": 18,
   "metadata": {},
   "outputs": [],
   "source": [
    "def derivative(f, r, e=0.00001):\n",
    "    \"\"\"\n",
    "    Compute the derivative of the tacoma function w.r.t. t at point t given initial conditions y\n",
    "    \n",
    "    Parameters\n",
    "    ----------\n",
    "    f : function\n",
    "        vector of initial conditions\n",
    "    r : real number\n",
    "        point of derivative estimate\n",
    "    e : real number\n",
    "        step in f(r+e)\n",
    "    Returns\n",
    "    -------\n",
    "    Real number \n",
    "        Derivative at point r\n",
    "    \"\"\"\n",
    "    return (f(r+e)-f(r))/e\n",
    "\n",
    "def derivative_second(f,r,e=0.00001):\n",
    "    return (derivative(f, r+e, e)-derivative(f, r, e))/e"
   ]
  },
  {
   "cell_type": "code",
   "execution_count": 19,
   "metadata": {},
   "outputs": [],
   "source": [
    "#|x(i+1)-x(i)|<pr is the stopping condition\n",
    "def solver_Newton_2(f,x,pr,stop=30):\n",
    "    '''f is the function to be solved, x is initial guess, pr is desired precision, stop is the number of operations'''\n",
    "    count=0\n",
    "    x1=x+pr\n",
    "    while (np.absolute(x1-x)>pr) and (count<stop):\n",
    "        x1=x-(f(x)/derivative(f,x))\n",
    "    return x, f(x)"
   ]
  },
  {
   "cell_type": "code",
   "execution_count": 20,
   "metadata": {},
   "outputs": [],
   "source": [
    "def solver_bisection(f, x1, x2, pr, stop=30):\n",
    "    '''f is the function to be solved, x1 and x2 is initial interval, pr is desired precision, stop is the number of operations'''\n",
    "    count=0\n",
    "    while( (count<stop) and ((x2-x1)/2>pr) ):\n",
    "        c=(x1+x2)/2\n",
    "        temp=f(c)\n",
    "        if temp==0:\n",
    "            break\n",
    "        if f(x1)*temp < 0:\n",
    "            x1=c\n",
    "        else:\n",
    "            x2=c\n",
    "        count+=1\n",
    "    return x1,x2"
   ]
  },
  {
   "cell_type": "code",
   "execution_count": 21,
   "metadata": {},
   "outputs": [],
   "source": [
    "# Given θ(0) = 10−3 find the minimum wind speed that has a magnification factor of 100 or more\n",
    "theta = 10**(-3)\n",
    "mFactorList=[]\n",
    "for i in range(590,600):\n",
    "    W = i/10\n",
    "    z=tacoma([0,200],[1,0,theta,0],5000,5, RungeKutta4, False, False)\n",
    "    mFactorList.append(z.max()/theta-100)"
   ]
  },
  {
   "cell_type": "code",
   "execution_count": 22,
   "metadata": {},
   "outputs": [
    {
     "data": {
      "image/png": "[encoded data removed]",
      "text/plain": [
       "<Figure size 640x480 with 1 Axes>"
      ]
     },
     "metadata": {},
     "output_type": "display_data"
    }
   ],
   "source": [
    "#Shows how close to 0 is magnification factor - 100 for different values of wind speed\n",
    "plt.plot(np.arange(59,60,0.1), mFactorList)\n",
    "plt.show()"
   ]
  },
  {
   "cell_type": "markdown",
   "metadata": {},
   "source": [
    "The graph looks approximately linear, so let's try Newton's method. Let's start with the initial guess of 59.7"
   ]
  },
  {
   "cell_type": "code",
   "execution_count": 23,
   "metadata": {},
   "outputs": [],
   "source": [
    "theta=10**(-3)\n",
    "def record_magnification_factor_minus_100(windspeed):\n",
    "    \"\"\"\n",
    "    Compute magnification factor minus 100 for given windspeed\n",
    "    \n",
    "    Parameters\n",
    "    ----------\n",
    "    windspeed : real number\n",
    "        windspeed in km/hr\n",
    "\n",
    "    Returns\n",
    "    -------\n",
    "    Real number \n",
    "        Magnification factor minus 100\n",
    "    \"\"\"\n",
    "\n",
    "    global W\n",
    "    W=windspeed\n",
    "    z=tacoma([0,200],[1,0,theta,0],5000,5, RungeKutta4, False, False)\n",
    "    return z.max()/theta-100"
   ]
  },
  {
   "cell_type": "markdown",
   "metadata": {},
   "source": [
    "solver_Newton_2(record_magnification_factor_minus_100,59.7,0.0005,5) takes too long"
   ]
  },
  {
   "cell_type": "code",
   "execution_count": 24,
   "metadata": {},
   "outputs": [
    {
     "data": {
      "text/plain": [
       "(59.63, 59.6321875)"
      ]
     },
     "execution_count": 24,
     "metadata": {},
     "output_type": "execute_result"
    }
   ],
   "source": [
    "solver_bisection(record_magnification_factor_minus_100, 59.63, 59.7, 0.0005, 5)"
   ]
  },
  {
   "cell_type": "code",
   "execution_count": 25,
   "metadata": {},
   "outputs": [
    {
     "data": {
      "text/plain": [
       "(59.63, 59.63055)"
      ]
     },
     "execution_count": 25,
     "metadata": {},
     "output_type": "execute_result"
    }
   ],
   "source": [
    "solver_bisection(record_magnification_factor_minus_100, 59.63, 59.6322, 0.0005, 10)"
   ]
  },
  {
   "cell_type": "markdown",
   "metadata": {},
   "source": [
    "### Suggested Activity 6"
   ]
  },
  {
   "cell_type": "markdown",
   "metadata": {},
   "source": [
    "Try some larger values of W. Do all extremely small initial angles eventually grow to catastrophic size?"
   ]
  },
  {
   "cell_type": "code",
   "execution_count": 26,
   "metadata": {},
   "outputs": [
    {
     "name": "stdout",
     "output_type": "stream",
     "text": [
      "wind speed =  180  theta =  0.001 maximum angle=  40.229793559530656\n",
      "wind speed =  210  theta =  0.001 maximum angle=  101.7347792651492\n",
      "wind speed =  240  theta =  0.001 maximum angle=  524.4568165331057\n",
      "wind speed =  270  theta =  0.001 maximum angle=  2991.901197279891\n",
      "wind speed =  180  theta =  0.0001 maximum angle=  19.15797053199591\n",
      "wind speed =  210  theta =  0.0001 maximum angle=  1414.011474725897\n",
      "wind speed =  240  theta =  0.0001 maximum angle=  2389.2920341868185\n",
      "wind speed =  270  theta =  0.0001 maximum angle=  785.8686593026263\n",
      "wind speed =  180  theta =  1e-05 maximum angle=  115.61290626324309\n",
      "wind speed =  210  theta =  1e-05 maximum angle=  76.68241903044208\n",
      "wind speed =  240  theta =  1e-05 maximum angle=  1.0922104948527411\n",
      "wind speed =  270  theta =  1e-05 maximum angle=  804.356313667836\n",
      "wind speed =  180  theta =  1e-06 maximum angle=  303.2934582785537\n",
      "wind speed =  210  theta =  1e-06 maximum angle=  171.57990474051863\n",
      "wind speed =  240  theta =  1e-06 maximum angle=  76.51573568094098\n",
      "wind speed =  270  theta =  1e-06 maximum angle=  101.53755930651552\n"
     ]
    }
   ],
   "source": [
    "# Try for W = 180, 210, 240, 270\n",
    "for j in range(3,7):\n",
    "    theta=10**(-j)\n",
    "    for i in range(180, 300,30):\n",
    "        W = i\n",
    "        z=tacoma([0,500],[1,0,theta,0],10000,5, RungeKutta4, False, False)\n",
    "        print(\"wind speed = \",i,\" theta = \", theta, \"maximum angle= \",z.max())"
   ]
  },
  {
   "attachments": {},
   "cell_type": "markdown",
   "metadata": {},
   "source": [
    "We see that most extremely small initial angles eventually grow to catastrophic size at larger values of W"
   ]
  },
  {
   "cell_type": "markdown",
   "metadata": {},
   "source": [
    "### Suggested Activity 7"
   ]
  },
  {
   "cell_type": "markdown",
   "metadata": {},
   "source": [
    "What is the effect of increasing the damping coefficient? Double the current value and find the change in the critical wind speed W . Can you suggest possible changes in design that might have made the bridge less susceptible to torsion?"
   ]
  },
  {
   "cell_type": "code",
   "execution_count": 27,
   "metadata": {},
   "outputs": [],
   "source": [
    "# Double the value of the damping coefficient from .01 to .02\n",
    "d =.02\n",
    "theta=10**(-3)"
   ]
  },
  {
   "cell_type": "code",
   "execution_count": 28,
   "metadata": {},
   "outputs": [
    {
     "name": "stdout",
     "output_type": "stream",
     "text": [
      "50\n"
     ]
    }
   ],
   "source": [
    "#Check that the bisection method returns is applied in the correct interval, and return the correct interval if any\n",
    "for i in range(50, 100, 2):\n",
    "    if solver_bisection(record_magnification_factor_minus_100, i, i+2, 0.0005, 1)!=0:\n",
    "        print(i)\n",
    "        break"
   ]
  },
  {
   "cell_type": "markdown",
   "metadata": {},
   "source": [
    "We thus see that there is no point where the magnification factor is more than 100 in the interval above. We will apply higher wind speed:"
   ]
  },
  {
   "cell_type": "code",
   "execution_count": 29,
   "metadata": {},
   "outputs": [
    {
     "name": "stdout",
     "output_type": "stream",
     "text": [
      "100\n"
     ]
    }
   ],
   "source": [
    "for i in range(100, 150, 2):\n",
    "    if solver_bisection(record_magnification_factor_minus_100, i, i+2, 0.0005, 1)!=0:\n",
    "        print(i)\n",
    "        break"
   ]
  },
  {
   "cell_type": "code",
   "execution_count": 30,
   "metadata": {},
   "outputs": [
    {
     "data": {
      "text/plain": [
       "(112, 112.0009765625)"
      ]
     },
     "execution_count": 30,
     "metadata": {},
     "output_type": "execute_result"
    }
   ],
   "source": [
    "solver_bisection(record_magnification_factor_minus_100, 112, 113, 0.0005, 10)"
   ]
  },
  {
   "cell_type": "code",
   "execution_count": 31,
   "metadata": {},
   "outputs": [
    {
     "data": {
      "text/plain": [
       "(113, 113.0009765625)"
      ]
     },
     "execution_count": 31,
     "metadata": {},
     "output_type": "execute_result"
    }
   ],
   "source": [
    "solver_bisection(record_magnification_factor_minus_100, 113, 114, 0.0005, 10)\n",
    "\n",
    "#Thus both values of minimum wind speed at 113 and 114 are bigger than 0"
   ]
  },
  {
   "cell_type": "code",
   "execution_count": 32,
   "metadata": {},
   "outputs": [
    {
     "data": {
      "text/plain": [
       "(112.5, 112.5009765625)"
      ]
     },
     "execution_count": 32,
     "metadata": {},
     "output_type": "execute_result"
    }
   ],
   "source": [
    "solver_bisection(record_magnification_factor_minus_100, 112.5, 113, 0.0005, 10)"
   ]
  },
  {
   "cell_type": "code",
   "execution_count": 33,
   "metadata": {},
   "outputs": [
    {
     "data": {
      "text/plain": [
       "(112.7, 112.70078125)"
      ]
     },
     "execution_count": 33,
     "metadata": {},
     "output_type": "execute_result"
    }
   ],
   "source": [
    "solver_bisection(record_magnification_factor_minus_100, 112.7, 112.8, 0.0005, 10)\n",
    "\n",
    "#Thus both values are less than 0"
   ]
  },
  {
   "cell_type": "code",
   "execution_count": 34,
   "metadata": {},
   "outputs": [
    {
     "data": {
      "text/plain": [
       "(112.9, 112.90078125000001)"
      ]
     },
     "execution_count": 34,
     "metadata": {},
     "output_type": "execute_result"
    }
   ],
   "source": [
    "solver_bisection(record_magnification_factor_minus_100, 112.8, 113, 0.0005, 10)"
   ]
  },
  {
   "cell_type": "markdown",
   "metadata": {},
   "source": [
    "We thus see that minimum wind speed such that the magnification factor is more than 100 is around 112.9\n",
    "\n",
    "The bridge is almost twice as stable with the increase in the damping coefficient.\n",
    "\n",
    "Therefore one design suggestion would be to increase the damping coefficient by building the bridge a little differently"
   ]
  },
  {
   "cell_type": "markdown",
   "metadata": {},
   "source": [
    "### Convergence Verification"
   ]
  },
  {
   "cell_type": "code",
   "execution_count": 35,
   "metadata": {},
   "outputs": [],
   "source": [
    "def testFunction(t, y):\n",
    "    #test function: y(t) = e^(t^2), and the corresponding equation y'=2ty with y(1)=e\n",
    "    return 2*t*y"
   ]
  },
  {
   "cell_type": "code",
   "execution_count": 36,
   "metadata": {},
   "outputs": [],
   "source": [
    "def convergence_calculator(t, h):\n",
    "    \"\"\"\n",
    "    Compute convergence of a given ODE solver\n",
    "    \n",
    "    Parameters\n",
    "    ----------\n",
    "    \n",
    "    t: real number\n",
    "        point in time\n",
    "    h : real number\n",
    "        step size\n",
    "    \n",
    "    Returns\n",
    "    -------\n",
    "    local errors of RK and trapstep methods at t with step h\n",
    "    \"\"\"\n",
    "    RK_local = np.absolute(exp((t+h)**2)-RungeKutta4(t, exp(t**2), h, testFunction))\n",
    "    trapstep_local = np.absolute(exp((t+h)**2)-trapstep(t, exp(t**2), h, testFunction))\n",
    "    return RK_local, trapstep_local"
   ]
  },
  {
   "cell_type": "code",
   "execution_count": 37,
   "metadata": {},
   "outputs": [
    {
     "name": "stdout",
     "output_type": "stream",
     "text": [
      "[7.5025319290489279e-11 8.0421891368587239e-11 8.6182172509552402e-11\n",
      " 9.2331475798346219e-11 9.8891561606251344e-11 1.0589351617795728e-10\n",
      " 1.1336132033079593e-10 1.2132916893392576e-10 1.2982681596440671e-10\n",
      " 1.3888890038060708e-10 1.4855183749773460e-10]\n",
      "[3.7111667094968936e-06 3.9004514484908270e-06 4.0990335694601754e-06\n",
      " 4.3073744744326348e-06 4.5259593113300411e-06 4.7552982560539192e-06\n",
      " 4.9959278438649335e-06 5.2484124020146794e-06 5.5133455334477333e-06\n",
      " 5.7913517110819157e-06 6.0830879409223826e-06]\n"
     ]
    }
   ],
   "source": [
    "np.set_printoptions(precision=16)\n",
    "\n",
    "a,b = np.vectorize(convergence_calculator)(np.arange(1,1.1,0.01), 0.01)\n",
    "\n",
    "print(a)\n",
    "\n",
    "print(b)"
   ]
  },
  {
   "cell_type": "markdown",
   "metadata": {},
   "source": [
    "We see that the local error is consistent with the theoretical rate: of orders  ℎ∗10−5\n",
    "  and  ℎ∗10−3\n",
    "  for Runge-Kutta 4 and Trapezoid respectively.\n",
    "\n",
    "Global error will be more difficult to compute as it would require the Lipshitz constant. Since local error fits perfectly, we assume that so does the global error."
   ]
  }
 ],
 "metadata": {
  "kernelspec": {
   "display_name": "Python 3 (ipykernel)",
   "language": "python",
   "name": "python3"
  },
  "language_info": {
   "codemirror_mode": {
    "name": "ipython",
    "version": 3
   },
   "file_extension": ".py",
   "mimetype": "text/x-python",
   "name": "python",
   "nbconvert_exporter": "python",
   "pygments_lexer": "ipython3",
   "version": "3.9.1"
  },
  "vscode": {
   "interpreter": {
    "hash": "aee8b7b246df8f9039afb4144a1f6fd8d2ca17a180786b69acc140d282b71a49"
   }
  }
 },
 "nbformat": 4,
 "nbformat_minor": 2
}
